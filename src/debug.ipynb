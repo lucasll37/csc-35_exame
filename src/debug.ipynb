{
 "cells": [
  {
   "cell_type": "code",
   "execution_count": 1,
   "metadata": {},
   "outputs": [
    {
     "name": "stdout",
     "output_type": "stream",
     "text": [
      "pygame 2.6.1 (SDL 2.28.4, Python 3.12.7)\n",
      "Hello from the pygame community. https://www.pygame.org/contribute.html\n"
     ]
    }
   ],
   "source": [
    "import pygame\n",
    "from time import sleep\n",
    "import numpy as np\n",
    "from drone import Drone\n",
    "from hacker import Hacker\n",
    "from baseStationControl import BaseStationControl\n",
    "from adhoc import AdHoc\n",
    "from globals import *\n",
    "from encryption import *"
   ]
  },
  {
   "cell_type": "code",
   "execution_count": 2,
   "metadata": {},
   "outputs": [],
   "source": [
    "n_drones = 3\n",
    "symmetric_key = generate_symmetric_key()"
   ]
  },
  {
   "cell_type": "code",
   "execution_count": 3,
   "metadata": {},
   "outputs": [],
   "source": [
    "base_station_0 = BaseStationControl(position=(-LARGURA * 0.9, -ALTURA * 0.9, 0), symmetric_key=symmetric_key)\n",
    "hacker_0 = Hacker(position=(LARGURA * 0.9, ALTURA * 0.9, 0))\n",
    "drones = [Drone(symmetric_key=symmetric_key, timeout = 5) for _ in range(n_drones)]"
   ]
  },
  {
   "cell_type": "code",
   "execution_count": 4,
   "metadata": {},
   "outputs": [],
   "source": [
    "# Inicializa a rede FANET\n",
    "fanet = AdHoc(symmetric_key=symmetric_key, logs=True)\n",
    "fanet.add_bsc([base_station_0])\n",
    "fanet.add_hacker([hacker_0])\n",
    "fanet.add_drone(drones)"
   ]
  },
  {
   "cell_type": "code",
   "execution_count": 5,
   "metadata": {},
   "outputs": [],
   "source": [
    "clock = pygame.time.Clock()\n",
    "delta_time = clock.tick(FPS) / 1000.0"
   ]
  },
  {
   "cell_type": "code",
   "execution_count": 6,
   "metadata": {},
   "outputs": [],
   "source": [
    "base_station_0.send_msg((0, 0, 10), \"discover\")"
   ]
  },
  {
   "cell_type": "code",
   "execution_count": 10,
   "metadata": {},
   "outputs": [
    {
     "name": "stdout",
     "output_type": "stream",
     "text": [
      "\n",
      "Non-encrypted Message: Source ID: 0 | Destination ID: 1 | Type: discover | Mission ID: 0 | Closest UAV ID: 0 | Distance: 277.6612367039265 | Position: (0, 0, 10)\n",
      "Encrypted Message (hex): 15dea6f78e734f47309103c86c6162725c44899676f993052735d7d45d2186f00023c0dba726e2a4f798c503904c86192b0e5fd8eaebdd787f6809fbacbdb02794ccb48d149c1c6c8cce5c7e1e6c45adcda13fb3f93092caa0724390a83ed433b0c5864017b8806a6116f37dd93a41c25d10a493d906c5a0cf9237d7b2632f66dafa3fa71f21365503f973e0d2117c3368ca3ba19135d1b2808745a086bfd05b374eef16bef9dd77c7686727d539d4edb00b225355c1b5411d1445c352\n",
      "\n",
      "\n",
      "\n",
      "Non-encrypted Message: Source ID: 0 | Destination ID: 2 | Type: discover | Mission ID: 0 | Closest UAV ID: 0 | Distance: 277.6612367039265 | Position: (0, 0, 10)\n",
      "Encrypted Message (hex): 76bfed27f375e5f15414d0308309e20546013a7931f12bec9cffe7417cf1accb2cf74a00c060aeef877b9a5b8b7948d0eb8cad586439a64e344588e71b889914247c97f32ddb05c641aa1aee9806bc91d61ebb00ab5c66c50d8ee64a2c6f8264a61c0bb274ce01dc8350bdff090251d5ca4819b2305f656ef97296e32bdf2caef409e67975481686c40def4da3336b6186ab1fd0faae71dc179fbc256c6a192794e9c29727cf54848d5147d6ba3a60877b4c189b120bb97454de3fa133\n",
      "\n",
      "\n",
      "\n",
      "    len(fanet.messages_in_transit): 2\n",
      "\n",
      "    BASE STATION 0\n",
      "        tmp_msg_in: []\n",
      "        buffer_msg_in: []\n",
      "        buffer_msg_out: []\n",
      "        neighbors: [0]\n",
      "\n",
      "\n",
      "    HACKER 0\n",
      "        buffer_msg_in: {}\n",
      "        buffer_msg_out: []\n",
      "        neighbors: [2]\n",
      "\n",
      "    DRONE 0\n",
      "        buffer_msg_out: []\n",
      "        closest_uav_id: 0\n",
      "        closest_uav_distance: 277.6612367039265\n",
      "        neighbors: [1, 2]\n",
      "        active: False\n",
      "        saw_discover: True\n",
      "        saw_execute: False\n",
      "        saw_complete: False\n",
      "\n",
      "    DRONE 1\n",
      "        buffer_msg_out: [Source ID: 1 | Destination ID: 2 | Type: discover | Mission ID: 0 | Closest UAV ID: 0 | Distance: 277.6612367039265 | Position: (0, 0, 10)]\n",
      "        closest_uav_id: 0\n",
      "        closest_uav_distance: 277.6612367039265\n",
      "        neighbors: [0, 2]\n",
      "        active: False\n",
      "        saw_discover: True\n",
      "        saw_execute: False\n",
      "        saw_complete: False\n",
      "\n",
      "    DRONE 2\n",
      "        buffer_msg_out: [Source ID: 2 | Destination ID: 1 | Type: discover | Mission ID: 0 | Closest UAV ID: 0 | Distance: 277.6612367039265 | Position: (0, 0, 10)]\n",
      "        closest_uav_id: 0\n",
      "        closest_uav_distance: 277.6612367039265\n",
      "        neighbors: [1, 0]\n",
      "        active: False\n",
      "        saw_discover: True\n",
      "        saw_execute: False\n",
      "        saw_complete: False\n",
      "\n"
     ]
    }
   ],
   "source": [
    "_ = fanet.update(delta_time)\n",
    "\n",
    "print(f\"\"\"\n",
    "    len(fanet.messages_in_transit): {len(fanet.messages_in_transit)}\n",
    "\n",
    "    BASE STATION 0\n",
    "        tmp_msg_in: {base_station_0.tmp_msg}\n",
    "        buffer_msg_in: {base_station_0.buffer_msg_in}\n",
    "        buffer_msg_out: {base_station_0.buffer_msg_out}\n",
    "        neighbors: {[uav.id for uav in base_station_0.neighbors]}\n",
    "\n",
    "\n",
    "    HACKER 0\n",
    "        buffer_msg_in: {hacker_0.snooped_msg}\n",
    "        buffer_msg_out: {hacker_0.buffer_msg_out}\n",
    "        neighbors: {[uav.id for uav in hacker_0.neighbors]}\n",
    "\n",
    "    DRONE 0\n",
    "        buffer_msg_out: {drones[0].buffer_msg_out}\n",
    "        closest_uav_id: {drones[0].closest_uav_id}\n",
    "        closest_uav_distance: {drones[0].closest_distance}\n",
    "        neighbors: {[uav.id for uav in drones[0].neighbors]}\n",
    "        active: {drones[0].active}\n",
    "        saw_discover: {drones[0].saw_discover}\n",
    "        saw_execute: {drones[0].saw_execute}\n",
    "        saw_complete: {drones[0].saw_complete}\n",
    "\n",
    "    DRONE 1\n",
    "        buffer_msg_out: {drones[1].buffer_msg_out}\n",
    "        closest_uav_id: {drones[1].closest_uav_id}\n",
    "        closest_uav_distance: {drones[1].closest_distance}\n",
    "        neighbors: {[uav.id for uav in drones[1].neighbors]}\n",
    "        active: {drones[1].active}\n",
    "        saw_discover: {drones[1].saw_discover}\n",
    "        saw_execute: {drones[1].saw_execute}\n",
    "        saw_complete: {drones[1].saw_complete}\n",
    "\n",
    "    DRONE 2\n",
    "        buffer_msg_out: {drones[2].buffer_msg_out}\n",
    "        closest_uav_id: {drones[2].closest_uav_id}\n",
    "        closest_uav_distance: {drones[2].closest_distance}\n",
    "        neighbors: {[uav.id for uav in drones[2].neighbors]}\n",
    "        active: {drones[2].active}\n",
    "        saw_discover: {drones[2].saw_discover}\n",
    "        saw_execute: {drones[2].saw_execute}\n",
    "        saw_complete: {drones[2].saw_complete}\n",
    "\"\"\")"
   ]
  },
  {
   "cell_type": "code",
   "execution_count": null,
   "metadata": {},
   "outputs": [],
   "source": []
  }
 ],
 "metadata": {
  "kernelspec": {
   "display_name": ".venv",
   "language": "python",
   "name": "python3"
  },
  "language_info": {
   "codemirror_mode": {
    "name": "ipython",
    "version": 3
   },
   "file_extension": ".py",
   "mimetype": "text/x-python",
   "name": "python",
   "nbconvert_exporter": "python",
   "pygments_lexer": "ipython3",
   "version": "3.12.7"
  }
 },
 "nbformat": 4,
 "nbformat_minor": 2
}
