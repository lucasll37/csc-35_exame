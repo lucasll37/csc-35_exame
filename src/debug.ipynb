{
 "cells": [
  {
   "cell_type": "code",
   "execution_count": 3,
   "metadata": {},
   "outputs": [
    {
     "name": "stdout",
     "output_type": "stream",
     "text": [
      "pygame 2.6.1 (SDL 2.28.4, Python 3.11.7)\n",
      "Hello from the pygame community. https://www.pygame.org/contribute.html\n"
     ]
    }
   ],
   "source": [
    "import pygame\n",
    "from time import sleep\n",
    "import numpy as np\n",
    "from drone import Drone\n",
    "from hacker import Hacker\n",
    "from baseStationControl import BaseStationControl\n",
    "from adhoc import AdHoc\n",
    "from globals import *\n",
    "from encryption import *"
   ]
  },
  {
   "cell_type": "code",
   "execution_count": 4,
   "metadata": {},
   "outputs": [],
   "source": [
    "n_drones = 3\n",
    "symmetric_key = generate_symmetric_key()"
   ]
  },
  {
   "cell_type": "code",
   "execution_count": 5,
   "metadata": {},
   "outputs": [],
   "source": [
    "base_station_0 = BaseStationControl(position=(-LARGURA * 0.9, -ALTURA * 0.9, 0), symmetric_key=symmetric_key)\n",
    "hacker_0 = Hacker(position=(LARGURA * 0.9, ALTURA * 0.9, 0))\n",
    "drones = [Drone(symmetric_key=symmetric_key, timeout = 5) for _ in range(n_drones)]"
   ]
  },
  {
   "cell_type": "code",
   "execution_count": 6,
   "metadata": {},
   "outputs": [],
   "source": [
    "# Inicializa a rede FANET\n",
    "fanet = AdHoc(symmetric_key=symmetric_key, logs=True)\n",
    "fanet.add_bsc([base_station_0])\n",
    "fanet.add_hacker([hacker_0])\n",
    "fanet.add_drone(drones)"
   ]
  },
  {
   "cell_type": "code",
   "execution_count": 7,
   "metadata": {},
   "outputs": [],
   "source": [
    "clock = pygame.time.Clock()\n",
    "delta_time = clock.tick(FPS) / 1000.0"
   ]
  },
  {
   "cell_type": "code",
   "execution_count": 8,
   "metadata": {},
   "outputs": [],
   "source": [
    "base_station_0.send_msg((0, 0, 10), \"discover\")"
   ]
  },
  {
   "cell_type": "code",
   "execution_count": 10,
   "metadata": {},
   "outputs": [
    {
     "name": "stdout",
     "output_type": "stream",
     "text": [
      "\n",
      "    len(fanet.messages_in_transit): 0\n",
      "\n",
      "    BASE STATION 0\n",
      "        tmp_msg_in: []\n",
      "        buffer_msg_in: []\n",
      "        buffer_msg_out: [Source ID: 0 | Destination ID: 0 | Type: discover | Mission ID: 0 | Closest UAV ID: None | Distance: inf | Position: (0, 0, 10)]\n",
      "        neighbors: [0]\n",
      "\n",
      "\n",
      "    HACKER 0\n",
      "        buffer_msg_in: {}\n",
      "        buffer_msg_out: []\n",
      "        neighbors: [2]\n",
      "\n",
      "    DRONE 0\n",
      "        buffer_msg_out: []\n",
      "        closest_uav_id: None\n",
      "        closest_uav_distance: inf\n",
      "        neighbors: [1, 2]\n",
      "        active: False\n",
      "        saw_discover: False\n",
      "        saw_execute: False\n",
      "        saw_complete: False\n",
      "\n",
      "    DRONE 1\n",
      "        buffer_msg_out: []\n",
      "        closest_uav_id: None\n",
      "        closest_uav_distance: inf\n",
      "        neighbors: [2, 0]\n",
      "        active: False\n",
      "        saw_discover: False\n",
      "        saw_execute: False\n",
      "        saw_complete: False\n",
      "\n",
      "    DRONE 2\n",
      "        buffer_msg_out: []\n",
      "        closest_uav_id: None\n",
      "        closest_uav_distance: inf\n",
      "        neighbors: [1, 0]\n",
      "        active: False\n",
      "        saw_discover: False\n",
      "        saw_execute: False\n",
      "        saw_complete: False\n",
      "\n"
     ]
    }
   ],
   "source": [
    "_ = fanet.update(delta_time)\n",
    "\n",
    "print(f\"\"\"\n",
    "    len(fanet.messages_in_transit): {len(fanet.messages_in_transit)}\n",
    "\n",
    "    BASE STATION 0\n",
    "        tmp_msg_in: {base_station_0.tmp_msg}\n",
    "        buffer_msg_in: {base_station_0.buffer_msg_in}\n",
    "        buffer_msg_out: {base_station_0.buffer_msg_out}\n",
    "        neighbors: {[uav.id for uav in base_station_0.neighbors]}\n",
    "\n",
    "\n",
    "    HACKER 0\n",
    "        buffer_msg_in: {hacker_0.snooped_msg}\n",
    "        buffer_msg_out: {hacker_0.buffer_msg_out}\n",
    "        neighbors: {[uav.id for uav in hacker_0.neighbors]}\n",
    "\n",
    "    DRONE 0\n",
    "        buffer_msg_out: {drones[0].buffer_msg_out}\n",
    "        closest_uav_id: {drones[0].closest_uav_id}\n",
    "        closest_uav_distance: {drones[0].closest_distance}\n",
    "        neighbors: {[uav.id for uav in drones[0].neighbors]}\n",
    "        active: {drones[0].active}\n",
    "        saw_discover: {drones[0].saw_discover}\n",
    "        saw_execute: {drones[0].saw_execute}\n",
    "        saw_complete: {drones[0].saw_complete}\n",
    "\n",
    "    DRONE 1\n",
    "        buffer_msg_out: {drones[1].buffer_msg_out}\n",
    "        closest_uav_id: {drones[1].closest_uav_id}\n",
    "        closest_uav_distance: {drones[1].closest_distance}\n",
    "        neighbors: {[uav.id for uav in drones[1].neighbors]}\n",
    "        active: {drones[1].active}\n",
    "        saw_discover: {drones[1].saw_discover}\n",
    "        saw_execute: {drones[1].saw_execute}\n",
    "        saw_complete: {drones[1].saw_complete}\n",
    "\n",
    "    DRONE 2\n",
    "        buffer_msg_out: {drones[2].buffer_msg_out}\n",
    "        closest_uav_id: {drones[2].closest_uav_id}\n",
    "        closest_uav_distance: {drones[2].closest_distance}\n",
    "        neighbors: {[uav.id for uav in drones[2].neighbors]}\n",
    "        active: {drones[2].active}\n",
    "        saw_discover: {drones[2].saw_discover}\n",
    "        saw_execute: {drones[2].saw_execute}\n",
    "        saw_complete: {drones[2].saw_complete}\n",
    "\"\"\")"
   ]
  },
  {
   "cell_type": "code",
   "execution_count": null,
   "metadata": {},
   "outputs": [],
   "source": []
  }
 ],
 "metadata": {
  "kernelspec": {
   "display_name": "base",
   "language": "python",
   "name": "python3"
  },
  "language_info": {
   "codemirror_mode": {
    "name": "ipython",
    "version": 3
   },
   "file_extension": ".py",
   "mimetype": "text/x-python",
   "name": "python",
   "nbconvert_exporter": "python",
   "pygments_lexer": "ipython3",
   "version": "3.11.7"
  }
 },
 "nbformat": 4,
 "nbformat_minor": 2
}
