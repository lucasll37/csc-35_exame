{
 "cells": [
  {
   "cell_type": "code",
   "execution_count": 1,
   "metadata": {},
   "outputs": [
    {
     "name": "stdout",
     "output_type": "stream",
     "text": [
      "pygame 2.6.1 (SDL 2.28.4, Python 3.11.7)\n",
      "Hello from the pygame community. https://www.pygame.org/contribute.html\n"
     ]
    }
   ],
   "source": [
    "import pygame\n",
    "from drone import Drone\n",
    "from time import sleep\n",
    "import numpy as np\n",
    "from baseStationControl import BaseStationControl\n",
    "from adhoc import AdHoc\n",
    "from globals import *"
   ]
  },
  {
   "cell_type": "code",
   "execution_count": 2,
   "metadata": {},
   "outputs": [],
   "source": [
    "drones = [Drone() for _ in range(13)]\n",
    "base_station_0 = BaseStationControl(position=(-LARGURA * 0.9, -ALTURA * 0.9, 0))\n",
    "\n",
    "fanet = AdHoc()\n",
    "fanet.add_drone(drones)\n",
    "fanet.add_bsc([base_station_0])"
   ]
  },
  {
   "cell_type": "code",
   "execution_count": 3,
   "metadata": {},
   "outputs": [],
   "source": [
    "# Configuração do pygame\n",
    "pygame.init()\n",
    "SCREEN = pygame.display.set_mode((LARGURA, ALTURA))\n",
    "pygame.display.set_caption(\"Flying Ad Hoc Network (FANET)\")\n",
    "\n",
    "\n",
    "base_station_0.send_msg((LARGURA * np.random.uniform(-1, 1), -ALTURA * np.random.uniform(-1, 1), 10), \"discover\")\n",
    "\n",
    "\n",
    "clock = pygame.time.Clock()\n",
    "RUNNING = True\n",
    "PAUSED = False\n",
    "\n",
    "while RUNNING:\n",
    "    delta_time = clock.tick(FPS) / 1000.0  # Tempo decorrido em segundos\n",
    "\n",
    "    for evento in pygame.event.get():\n",
    "        if evento.type == pygame.QUIT:\n",
    "            RUNNING = False\n",
    "        if evento.type == pygame.KEYDOWN:\n",
    "            if evento.key == pygame.K_SPACE:  # Alterna entre pausado e rodando\n",
    "                PAUSED = not PAUSED\n",
    "\n",
    "    if not PAUSED:\n",
    "        SCREEN.fill(BLACK)\n",
    "        PAUSED = fanet.update(delta_time)\n",
    "        PAUSED = fanet.draw(SCREEN) or PAUSED\n",
    "\n",
    "        PAUSED = False # debug\n",
    "\n",
    "        if fanet.bsc[0].mission_id is None:\n",
    "            sleep(1)\n",
    "            base_station_0.send_msg((LARGURA * np.random.uniform(-1, 1), -ALTURA * np.random.uniform(-1, 1), 10), \"discover\")\n",
    "\n",
    "    else:\n",
    "        # Mensagem na tela enquanto pausado\n",
    "        font = pygame.font.Font(None, 30)\n",
    "        pause_text = font.render(\"Paused. Press Space to continue.\", True, (255, 255, 255))\n",
    "        SCREEN.blit(pause_text, (LARGURA // 2 - pause_text.get_width() // 2, ALTURA // 2 - pause_text.get_height() // 2))\n",
    "\n",
    "    pygame.display.flip()\n",
    "\n",
    "pygame.quit()\n"
   ]
  }
 ],
 "metadata": {
  "kernelspec": {
   "display_name": ".venv",
   "language": "python",
   "name": "python3"
  },
  "language_info": {
   "codemirror_mode": {
    "name": "ipython",
    "version": 3
   },
   "file_extension": ".py",
   "mimetype": "text/x-python",
   "name": "python",
   "nbconvert_exporter": "python",
   "pygments_lexer": "ipython3",
   "version": "3.11.7"
  }
 },
 "nbformat": 4,
 "nbformat_minor": 2
}
