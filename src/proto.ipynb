{
 "cells": [
  {
   "cell_type": "code",
   "execution_count": null,
   "metadata": {},
   "outputs": [],
   "source": [
    "import pygame\n",
    "from drone import Drone\n",
    "from baseStationControl import BaseStationControl\n",
    "from adhoc import AdHoc\n",
    "from globals import *"
   ]
  },
  {
   "cell_type": "code",
   "execution_count": null,
   "metadata": {},
   "outputs": [],
   "source": [
    "fanet = AdHoc()\n",
    "\n",
    "drone_0 = Drone()\n",
    "drone_1 = Drone()\n",
    "drone_2 = Drone()\n",
    "drone_3 = Drone()\n",
    "drone_4 = Drone()\n",
    "drone_5 = Drone()\n",
    "drone_6 = Drone()\n",
    "drone_7 = Drone()\n",
    "drone_8 = Drone()\n",
    "drone_9 = Drone()\n",
    "drone_10 = Drone()\n",
    "drone_11 = Drone()\n",
    "drone_12 = Drone()\n",
    "\n",
    "base_station_0 = BaseStationControl(position=(-LARGURA * 0.9, -ALTURA * 0.9, 0))\n",
    "base_station_1 = BaseStationControl(position=(LARGURA * 0.9, ALTURA * 0.9, 0))\n",
    "\n",
    "fanet.add_drone([drone_0, drone_1, drone_2])\n",
    "# fanet.add_drone([drone_0, drone_1, drone_2, drone_3, drone_4, drone_5, drone_6, drone_7, drone_8, drone_9, drone_10, drone_11, drone_12])\n",
    "fanet.add_bsc([base_station_0])"
   ]
  },
  {
   "cell_type": "code",
   "execution_count": null,
   "metadata": {},
   "outputs": [],
   "source": [
    "base_station_0.send_msg((0, 0, 0), \"discover\")\n",
    "# drone_0.goto((0, 0, 10))"
   ]
  },
  {
   "cell_type": "code",
   "execution_count": null,
   "metadata": {},
   "outputs": [],
   "source": [
    "# Configuração do pygame\n",
    "pygame.init()\n",
    "SCREEN = pygame.display.set_mode((LARGURA, ALTURA))\n",
    "pygame.display.set_caption(\"Flying Ad Hoc Network (FANET)\")"
   ]
  },
  {
   "cell_type": "code",
   "execution_count": null,
   "metadata": {},
   "outputs": [],
   "source": [
    "clock = pygame.time.Clock()\n",
    "RUNNING = True\n",
    "PAUSED = False\n",
    "\n",
    "while RUNNING:\n",
    "    delta_time = clock.tick(FPS) / 1000.0  # Tempo decorrido em segundos\n",
    "\n",
    "    for evento in pygame.event.get():\n",
    "        if evento.type == pygame.QUIT:\n",
    "            RUNNING = False\n",
    "        if evento.type == pygame.KEYDOWN:\n",
    "            if evento.key == pygame.K_SPACE:  # Alterna entre pausado e rodando\n",
    "                PAUSED = not PAUSED\n",
    "\n",
    "    if not PAUSED:\n",
    "        # Atualiza e desenha apenas se não estiver pausado\n",
    "        SCREEN.fill(BLACK)\n",
    "        PAUSED = fanet.update()\n",
    "        PAUSED = fanet.draw(SCREEN) or PAUSED\n",
    "        PAUSED = True\n",
    "    else:\n",
    "        # Mensagem na tela enquanto pausado\n",
    "        font = pygame.font.Font(None, 30)\n",
    "        pause_text = font.render(\"Paused. Press Space to continue.\", True, (255, 255, 255))\n",
    "        SCREEN.blit(pause_text, (LARGURA // 2 - pause_text.get_width() // 2, ALTURA // 2 - pause_text.get_height() // 2))\n",
    "\n",
    "    pygame.display.flip()\n",
    "\n",
    "pygame.quit()\n"
   ]
  }
 ],
 "metadata": {
  "kernelspec": {
   "display_name": ".venv",
   "language": "python",
   "name": "python3"
  },
  "language_info": {
   "codemirror_mode": {
    "name": "ipython",
    "version": 3
   },
   "file_extension": ".py",
   "mimetype": "text/x-python",
   "name": "python",
   "nbconvert_exporter": "python",
   "pygments_lexer": "ipython3",
   "version": "3.11.7"
  }
 },
 "nbformat": 4,
 "nbformat_minor": 2
}
