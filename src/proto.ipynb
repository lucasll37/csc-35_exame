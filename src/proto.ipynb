{
 "cells": [
  {
   "cell_type": "code",
   "execution_count": 1,
   "metadata": {},
   "outputs": [
    {
     "name": "stdout",
     "output_type": "stream",
     "text": [
      "pygame 2.6.1 (SDL 2.28.4, Python 3.11.7)\n",
      "Hello from the pygame community. https://www.pygame.org/contribute.html\n"
     ]
    }
   ],
   "source": [
    "import pygame\n",
    "from drone import Drone\n",
    "from baseStationControl import BaseStationControl\n",
    "from adhoc import AdHoc\n",
    "from globals import *"
   ]
  },
  {
   "cell_type": "code",
   "execution_count": 2,
   "metadata": {},
   "outputs": [],
   "source": [
    "fanet = AdHoc()\n",
    "\n",
    "drone_0 = Drone()\n",
    "drone_1 = Drone()\n",
    "drone_2 = Drone()\n",
    "drone_3 = Drone()\n",
    "drone_4 = Drone()\n",
    "drone_5 = Drone()\n",
    "drone_6 = Drone()\n",
    "drone_7 = Drone()\n",
    "drone_8 = Drone()\n",
    "drone_9 = Drone()\n",
    "drone_10 = Drone()\n",
    "drone_11 = Drone()\n",
    "drone_12 = Drone()\n",
    "\n",
    "base_station_0 = BaseStationControl(position=(-LARGURA * 0.9, -ALTURA * 0.9, 0))\n",
    "\n",
    "fanet.add_drone([drone_0, drone_1, drone_2])\n",
    "fanet.add_bsc([base_station_0])"
   ]
  },
  {
   "cell_type": "code",
   "execution_count": 3,
   "metadata": {},
   "outputs": [
    {
     "ename": "AttributeError",
     "evalue": "'BaseStationControl' object has no attribute 'target'",
     "output_type": "error",
     "traceback": [
      "\u001b[0;31m---------------------------------------------------------------------------\u001b[0m",
      "\u001b[0;31mAttributeError\u001b[0m                            Traceback (most recent call last)",
      "Cell \u001b[0;32mIn[3], line 1\u001b[0m\n\u001b[0;32m----> 1\u001b[0m \u001b[43mbase_station_0\u001b[49m\u001b[38;5;241;43m.\u001b[39;49m\u001b[43msend_msg\u001b[49m\u001b[43m(\u001b[49m\u001b[43m(\u001b[49m\u001b[38;5;241;43m0\u001b[39;49m\u001b[43m,\u001b[49m\u001b[43m \u001b[49m\u001b[38;5;241;43m0\u001b[39;49m\u001b[43m,\u001b[49m\u001b[43m \u001b[49m\u001b[38;5;241;43m10\u001b[39;49m\u001b[43m)\u001b[49m\u001b[43m,\u001b[49m\u001b[43m \u001b[49m\u001b[38;5;124;43m\"\u001b[39;49m\u001b[38;5;124;43mdiscover\u001b[39;49m\u001b[38;5;124;43m\"\u001b[39;49m\u001b[43m)\u001b[49m\n\u001b[1;32m      2\u001b[0m \u001b[38;5;66;03m# drone_0.goto((0, 0, 10))\u001b[39;00m\n",
      "File \u001b[0;32m~/Project/csc-35_exame/src/baseStationControl.py:41\u001b[0m, in \u001b[0;36mBaseStationControl.send_msg\u001b[0;34m(self, target, type)\u001b[0m\n\u001b[1;32m     39\u001b[0m     msg\u001b[38;5;241m.\u001b[39mmission_id \u001b[38;5;241m=\u001b[39m\u001b[38;5;28mself\u001b[39m\u001b[38;5;241m.\u001b[39mmission_id\n\u001b[1;32m     40\u001b[0m     msg\u001b[38;5;241m.\u001b[39msource_id \u001b[38;5;241m=\u001b[39m \u001b[38;5;28mself\u001b[39m\u001b[38;5;241m.\u001b[39mid\n\u001b[0;32m---> 41\u001b[0m     msg\u001b[38;5;241m.\u001b[39mposition \u001b[38;5;241m=\u001b[39m \u001b[38;5;28;43mself\u001b[39;49m\u001b[38;5;241;43m.\u001b[39;49m\u001b[43mtarget\u001b[49m\n\u001b[1;32m     42\u001b[0m     \u001b[38;5;28mself\u001b[39m\u001b[38;5;241m.\u001b[39mtmp_msg\u001b[38;5;241m.\u001b[39mappend(msg)\n\u001b[1;32m     44\u001b[0m \u001b[38;5;28;01melif\u001b[39;00m \u001b[38;5;28mtype\u001b[39m \u001b[38;5;241m==\u001b[39m \u001b[38;5;124m\"\u001b[39m\u001b[38;5;124mexecute\u001b[39m\u001b[38;5;124m\"\u001b[39m:\n",
      "\u001b[0;31mAttributeError\u001b[0m: 'BaseStationControl' object has no attribute 'target'"
     ]
    }
   ],
   "source": [
    "base_station_0.send_msg((0, 0, 10), \"discover\")\n",
    "# drone_0.goto((0, 0, 10))"
   ]
  },
  {
   "cell_type": "code",
   "execution_count": null,
   "metadata": {},
   "outputs": [],
   "source": [
    "_ = fanet.update()\n",
    "print(f\"fanet.messages_in_transit: {fanet.messages_in_transit}\")"
   ]
  },
  {
   "cell_type": "code",
   "execution_count": null,
   "metadata": {},
   "outputs": [],
   "source": [
    "# Configuração do pygame\n",
    "pygame.init()\n",
    "SCREEN = pygame.display.set_mode((LARGURA, ALTURA))\n",
    "pygame.display.set_caption(\"Flying Ad Hoc Network (FANET)\")\n",
    "\n",
    "clock = pygame.time.Clock()\n",
    "RUNNING = True\n",
    "PAUSED = False\n",
    "\n",
    "while RUNNING:\n",
    "    delta_time = clock.tick(FPS) / 1000.0  # Tempo decorrido em segundos\n",
    "\n",
    "    for evento in pygame.event.get():\n",
    "        if evento.type == pygame.QUIT:\n",
    "            RUNNING = False\n",
    "        if evento.type == pygame.KEYDOWN:\n",
    "            if evento.key == pygame.K_SPACE:  # Alterna entre pausado e rodando\n",
    "                PAUSED = not PAUSED\n",
    "\n",
    "    if not PAUSED:\n",
    "        SCREEN.fill(BLACK)\n",
    "        PAUSED = fanet.update()\n",
    "\n",
    "        for uav_id, uav in fanet.uav.items():\n",
    "            uav.update()\n",
    "\n",
    "        for bsc_id, bsc in fanet.bsc.items():\n",
    "            bsc.update()\n",
    "\n",
    "        PAUSED = fanet.draw(SCREEN) or PAUSED\n",
    "\n",
    "    else:\n",
    "        # Mensagem na tela enquanto pausado\n",
    "        font = pygame.font.Font(None, 30)\n",
    "        pause_text = font.render(\"Paused. Press Space to continue.\", True, (255, 255, 255))\n",
    "        SCREEN.blit(pause_text, (LARGURA // 2 - pause_text.get_width() // 2, ALTURA // 2 - pause_text.get_height() // 2))\n",
    "\n",
    "    pygame.display.flip()\n",
    "\n",
    "pygame.quit()\n"
   ]
  }
 ],
 "metadata": {
  "kernelspec": {
   "display_name": ".venv",
   "language": "python",
   "name": "python3"
  },
  "language_info": {
   "codemirror_mode": {
    "name": "ipython",
    "version": 3
   },
   "file_extension": ".py",
   "mimetype": "text/x-python",
   "name": "python",
   "nbconvert_exporter": "python",
   "pygments_lexer": "ipython3",
   "version": "3.11.7"
  }
 },
 "nbformat": 4,
 "nbformat_minor": 2
}
